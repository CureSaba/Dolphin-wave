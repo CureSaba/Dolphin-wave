{
  "nbformat": 4,
  "nbformat_minor": 0,
  "metadata": {
    "colab": {
      "provenance": []
    },
    "kernelspec": {
      "name": "python3",
      "display_name": "Python 3"
    },
    "language_info": {
      "name": "python"
    }
  },
  "cells": [
    {
      "cell_type": "code",
      "source": [
        "!git clone https://github.com/walzer/game-engine-detector.git\n",
        "!git clone https://github.com/CureSaba/Dolphin-wave.git\n",
        "!cp /content/Dolphin-wave/apks/3.17.0.apk /content/game-engine-detector/packages\n",
        "!mv /content/game-engine-detector/* /content/\n",
        "!sudo apt install python2"
      ],
      "metadata": {
        "id": "l88hvrS7qPgM"
      },
      "execution_count": null,
      "outputs": []
    },
    {
      "cell_type": "code",
      "source": [
        "!python2 main.py"
      ],
      "metadata": {
        "colab": {
          "base_uri": "https://localhost:8080/"
        },
        "id": "Azfc9L4rrtLg",
        "outputId": "253982f7-2533-4199-da25-d2ee4a1143f7"
      },
      "execution_count": null,
      "outputs": [
        {
          "output_type": "stream",
          "name": "stdout",
          "text": [
            "main entry!\n",
            "workspace: /content\n",
            "GameEngineDetector: {u'package_dirs': [u'packages'], u'engines': [{u'sub_types': {u'lua': [u'CCLuaEngine', u'LuaEngine'], u'CocosCreator': [u'Scale9SpriteV2'], u'js': [u'ScriptingCore']}, u'engine_version_keyword': u'\\\\0cocos2d-x[\\\\s-](\\\\d+\\\\..*?)\\\\0', u'name': u'cocos2d', u'file_content_keywords': [u'CCFileUtils', u'cocos2dVersion', u'cocos2d'], u'file_name_keywords': [u'cocos2d']}, {u'sub_types': {}, u'name': u'unity', u'file_content_keywords': [u'mono_unity', u'unity3d', u'unityengine', u'unityscript'], u'file_name_keywords': [u'libunity\\\\.so', u'unity3d', u'unityengine', u'unityscript']}, {u'sub_types': {u'FlashAir': [u'flash air', u'flash_air', u'flashair'], u'Stage3D': [u'AIRStage3D'], u'ActionScript': [u'ActionScript']}, u'name': u'flash', u'file_content_keywords': [], u'file_name_keywords': [u'flash.*\\\\.so']}, {u'sub_types': {}, u'name': u'Unreal', u'file_content_keywords': [u'UProjectileMovementComponent', u'UPrimitiveComponent', u'UE4Game'], u'file_name_keywords': [u'libUE4.so', u'UE4Game']}, {u'sub_types': {}, u'name': u'libgdx', u'file_content_keywords': [u'com_badlogic_gdx'], u'file_name_keywords': [u'libgdx.so']}, {u'sub_types': {}, u'name': u'egret', u'file_content_keywords': [u'egretframeworknative', u'EGTTexture'], u'file_name_keywords': []}], u'check_file_content_keywords': [u'[^/]+\\\\.so$', u'[^/]+\\\\.app/.*'], u'package_suffixes': [u'.apk', u'.ipa', u'.zip'], u'no_need_to_check_file_content': [u'[^/]+\\\\.png$', u'[^/]+\\\\.jpg$', u'[^/]+\\\\.jpeg$', u'[^/]+\\\\.plist$', u'[^/]+\\\\.caf', u'[^/]+\\\\.pvr', u'[^/]+\\\\.swf', u'[^/]+\\\\.json', u'[^/]+\\\\.txt', u'[^/]+\\\\.mp3', u'[^/]+\\\\.ogg', u'[^/]+\\\\.wav', u'PkgInfo$', u'iTunesArtwork$'], '7z_path': None}\n",
            "package_dirs: [u'/content/packages']\n",
            "==> Cleaning ...\n",
            "==> Scanning package ( 3.17.0.apk )\n",
            "==> Unzip package ...\n",
            "RESULT: {'engine': u'flash', 'matched_content_keywords': set([]), 'matched_content_file_name': u'/temp/0.apk/lib/arm64-v8a/libspsys.so', 'matched_sub_type_keywords': set([u'actionscript']), 'sub_types': set([u'ActionScript']), 'file_name': u'3.17.0.apk', 'matched_file_name_keywords': set([]), 'engine_version': 'unknown', 'error_info': []}\n",
            "==> Cleaning ...\n",
            "==> DONE!\n",
            "package: 3.17.0.apk, engine: flash, version: unknown, subtype: ActionScript, matched:/temp/0.apk/lib/arm64-v8a/libspsys.so\n"
          ]
        }
      ]
    }
  ]
}